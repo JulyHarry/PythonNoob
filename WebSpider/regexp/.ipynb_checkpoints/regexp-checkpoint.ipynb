{
 "cells": [
  {
   "cell_type": "markdown",
   "metadata": {},
   "source": [
    "# python re"
   ]
  },
  {
   "cell_type": "code",
   "execution_count": 7,
   "metadata": {},
   "outputs": [],
   "source": [
    "import re"
   ]
  },
  {
   "cell_type": "markdown",
   "metadata": {},
   "source": [
    "## re.match(pattern, string, flag=0)\n",
    "匹配开头是否满足正则"
   ]
  },
  {
   "cell_type": "code",
   "execution_count": 8,
   "metadata": {},
   "outputs": [
    {
     "name": "stdout",
     "output_type": "stream",
     "text": [
      "<re.Match object; span=(0, 3), match='www'>\n",
      "None\n"
     ]
    }
   ],
   "source": [
    "m = re.match('www', 'www.baidu.com')\n",
    "print(m)\n",
    "m = re.match('com', 'www.baidu.com')\n",
    "print(m)"
   ]
  },
  {
   "cell_type": "markdown",
   "metadata": {},
   "source": [
    "可以使用 `group(num)` 或 `groups()` 匹配对象函数， 来获取匹配表达式"
   ]
  },
  {
   "cell_type": "code",
   "execution_count": 9,
   "metadata": {},
   "outputs": [
    {
     "name": "stdout",
     "output_type": "stream",
     "text": [
      "m.group() : Cats are smarter than dogs\n",
      "m.group(0) : Cats are smarter than dogs\n",
      "m.group(1) : Cats\n",
      "m.group(2) : smarter\n"
     ]
    }
   ],
   "source": [
    "s = \"Cats are smarter than dogs\"\n",
    "m = re.match('(.*) are (.*?) .*', s, re.M | re.I)\n",
    "if m:\n",
    "    print('m.group() : ' + m.group())\n",
    "    print('m.group(0) : ' + m.group(0))\n",
    "    print('m.group(1) : ' + m.group(1))\n",
    "    print('m.group(2) : ' + m.group(2))\n",
    "    # print('m.group(3) : ' + m.group(3)) 没有则会报错"
   ]
  },
  {
   "cell_type": "markdown",
   "metadata": {},
   "source": [
    "**Note that even in MULTILINE mode, `re.match()` will only match at the beginning of the string and not at the beginning of each line.**"
   ]
  },
  {
   "cell_type": "markdown",
   "metadata": {},
   "source": [
    "# re.search(pattern, string, flags=0)\n",
    "在一个字符串中匹配正则表达式的第一个位置，返回match对象"
   ]
  },
  {
   "cell_type": "code",
   "execution_count": null,
   "metadata": {},
   "outputs": [],
   "source": []
  },
  {
   "cell_type": "markdown",
   "metadata": {},
   "source": [
    "# Match.group()\n",
    "如果输入参数为空，默认返回 `group(0)`, 即返回匹配到的整个结果\n",
    "如果输入参数是一个，返回一个string；\n",
    "如果输入参数是多个，返回一个对应的元组；\n"
   ]
  },
  {
   "cell_type": "code",
   "execution_count": 10,
   "metadata": {},
   "outputs": [
    {
     "name": "stdout",
     "output_type": "stream",
     "text": [
      "Isaac Newton\n",
      "Isaac\n",
      "Newton\n",
      "('Isaac', 'Newton')\n"
     ]
    }
   ],
   "source": [
    "m = re.match(r\"(\\w+) (\\w+)\", \"Isaac Newton, physicist\")\n",
    "print(m.group(0))  # The entire match\n",
    "print(m.group(1))  # The first parenthesized subgroup.\n",
    "print(m.group(2))  # The second parenthesized subgroup.\n",
    "print(m.group(1, 2))  # Multiple arguments give us a tuple."
   ]
  },
  {
   "cell_type": "markdown",
   "metadata": {},
   "source": [
    "正则表达式中如果有带参数的形式 `(?P<name>...)`， 可以使用 `group('name')` 返回结果"
   ]
  },
  {
   "cell_type": "code",
   "execution_count": 11,
   "metadata": {},
   "outputs": [
    {
     "name": "stdout",
     "output_type": "stream",
     "text": [
      "Malcolm\n",
      "Malcolm\n",
      "Reynolds\n",
      "Reynolds\n"
     ]
    }
   ],
   "source": [
    "m = re.match(r\"(?P<first_name>\\w+) (?P<last_name>\\w+)\", \"Malcolm Reynolds\")\n",
    "print(m.group('first_name'))\n",
    "print(m.group(1))\n",
    "print(m.group('last_name'))\n",
    "print(m.group(2))"
   ]
  },
  {
   "cell_type": "markdown",
   "metadata": {},
   "source": [
    "如果一个组匹配多次，则只能访问最后一个匹配"
   ]
  },
  {
   "cell_type": "code",
   "execution_count": 12,
   "metadata": {},
   "outputs": [
    {
     "name": "stdout",
     "output_type": "stream",
     "text": [
      "c3\n"
     ]
    }
   ],
   "source": [
    "m = re.match(r\"(..)+\", \"a1b2c3\")  # Matches 3 times.\n",
    "print(m.group(1))"
   ]
  },
  {
   "cell_type": "code",
   "execution_count": null,
   "metadata": {},
   "outputs": [],
   "source": []
  },
  {
   "cell_type": "code",
   "execution_count": null,
   "metadata": {},
   "outputs": [],
   "source": []
  }
 ],
 "metadata": {
  "kernelspec": {
   "display_name": "Python 3 (ipykernel)",
   "language": "python",
   "name": "python3"
  },
  "language_info": {
   "codemirror_mode": {
    "name": "ipython",
    "version": 3
   },
   "file_extension": ".py",
   "mimetype": "text/x-python",
   "name": "python",
   "nbconvert_exporter": "python",
   "pygments_lexer": "ipython3",
   "version": "3.10.7"
  }
 },
 "nbformat": 4,
 "nbformat_minor": 1
}
