{
 "cells": [
  {
   "cell_type": "markdown",
   "metadata": {},
   "source": [
    "# python re"
   ]
  },
  {
   "cell_type": "code",
   "execution_count": 1,
   "metadata": {},
   "outputs": [],
   "source": [
    "import re"
   ]
  },
  {
   "cell_type": "markdown",
   "metadata": {},
   "source": [
    "## re.match(pattern, string, flag=0)\n",
    "匹配**开头**是否满足正则"
   ]
  },
  {
   "cell_type": "code",
   "execution_count": 2,
   "metadata": {},
   "outputs": [
    {
     "name": "stdout",
     "output_type": "stream",
     "text": [
      "<re.Match object; span=(0, 3), match='www'>\n",
      "None\n"
     ]
    }
   ],
   "source": [
    "m = re.match('www', 'www.baidu.com')\n",
    "print(m)\n",
    "m = re.match('com', 'www.baidu.com')\n",
    "print(m)"
   ]
  },
  {
   "cell_type": "markdown",
   "metadata": {},
   "source": [
    "可以使用 `group(num)` 或 `groups()` 匹配对象函数， 来获取匹配表达式"
   ]
  },
  {
   "cell_type": "code",
   "execution_count": 3,
   "metadata": {},
   "outputs": [
    {
     "name": "stdout",
     "output_type": "stream",
     "text": [
      "m.group() : Cats are smarter than dogs\n",
      "m.group(0) : Cats are smarter than dogs\n",
      "m.group(1) : Cats\n",
      "m.group(2) : smarter\n"
     ]
    }
   ],
   "source": [
    "s = \"Cats are smarter than dogs\"\n",
    "m = re.match('(.*) are (.*?) .*', s, re.M | re.I)\n",
    "if m:\n",
    "    print('m.group() : ' + m.group())\n",
    "    print('m.group(0) : ' + m.group(0))\n",
    "    print('m.group(1) : ' + m.group(1))\n",
    "    print('m.group(2) : ' + m.group(2))\n",
    "    # print('m.group(3) : ' + m.group(3)) 没有则会报错"
   ]
  },
  {
   "cell_type": "markdown",
   "metadata": {},
   "source": [
    "**Note that even in MULTILINE mode, `re.match()` will only match at the beginning of the string and not at the beginning of each line.**"
   ]
  },
  {
   "cell_type": "markdown",
   "metadata": {},
   "source": [
    "## re.search(pattern, string, flags=0)\n",
    "在一个字符串中匹配正则表达式的**第一个位置**，返回match对象"
   ]
  },
  {
   "cell_type": "code",
   "execution_count": 4,
   "metadata": {},
   "outputs": [
    {
     "name": "stdout",
     "output_type": "stream",
     "text": [
      "<re.Match object; span=(0, 3), match='www'>\n",
      "<re.Match object; span=(10, 13), match='com'>\n",
      "<re.Match object; span=(10, 13), match='com'>\n"
     ]
    }
   ],
   "source": [
    "m = re.search('www', 'www.baidu.com')\n",
    "print(m)\n",
    "m = re.search('com', 'www.baidu.com')\n",
    "print(m)\n",
    "m = re.search('com', 'www.baidu.com.aaaa.com')\n",
    "print(m)"
   ]
  },
  {
   "cell_type": "markdown",
   "metadata": {},
   "source": [
    "## re.sub(pattern, repl, string, count=0, flags=0)\n",
    "在一个字符串中替换所有匹配正则表达式的子串，返回替换后的字符串\n",
    "repl：替换的字符串，也可为一个函数\n",
    "count：模式匹配后替换的最大次数，默认 0 表示替换所有的匹配\n",
    "\n",
    "正则表达式和替换的表达式一定都要用`'r'`开头，表示为 raw string, 否则会引发转义，无法正常替换。\n",
    "可以使用 `\\num` 形式表示之前匹配到的 `group` 对应序号的匹配项。"
   ]
  },
  {
   "cell_type": "code",
   "execution_count": 5,
   "metadata": {},
   "outputs": [
    {
     "name": "stdout",
     "output_type": "stream",
     "text": [
      "static PyObject*\n",
      "py_myfunc(void)\n",
      "{\n"
     ]
    }
   ],
   "source": [
    "m = re.sub(r'def\\s+([a-zA-Z_][a-zA-Z_0-9]*)\\s*\\(\\s*\\):', r'static PyObject*\\npy_\\1(void)\\n{', 'def myfunc():')\n",
    "print(m)"
   ]
  },
  {
   "cell_type": "markdown",
   "metadata": {},
   "source": [
    "## re.findall(pattern, string, flags=0)\n",
    "或 re.findall(string[, pos[, endpos]])\n",
    "搜索字符串，返回全部匹配的子串，返回的是列表类型，如果没有找到匹配的，就返回一个空列表\n",
    "pos：可选参数，指定字符串的起始位置，默认为 0。\n",
    "endpos：可选参数，指定字符串的结束位置，默认为字符串的长度"
   ]
  },
  {
   "cell_type": "code",
   "execution_count": 6,
   "metadata": {},
   "outputs": [
    {
     "name": "stdout",
     "output_type": "stream",
     "text": [
      "['foot', 'fell', 'fastest']\n",
      "[('width', '20'), ('height', '10')]\n"
     ]
    }
   ],
   "source": [
    "m = re.findall(r'\\bf[a-z]*', 'which foot or hand fell fastest')\n",
    "print(m)\n",
    "m = re.findall(r'(\\w+)=(\\d+)', 'set width=20 and height=10')\n",
    "print(m)"
   ]
  },
  {
   "cell_type": "markdown",
   "metadata": {},
   "source": [
    "## Match.group()\n",
    "如果输入参数为空，默认返回 `group(0)`, 即返回匹配到的整个结果\n",
    "如果输入参数是一个，返回一个string；\n",
    "如果输入参数是多个，返回一个对应的元组；\n"
   ]
  },
  {
   "cell_type": "code",
   "execution_count": 7,
   "metadata": {},
   "outputs": [
    {
     "name": "stdout",
     "output_type": "stream",
     "text": [
      "Isaac Newton\n",
      "Isaac\n",
      "Newton\n",
      "('Isaac', 'Newton')\n"
     ]
    }
   ],
   "source": [
    "m = re.match(r\"(\\w+) (\\w+)\", \"Isaac Newton, physicist\")\n",
    "print(m.group(0))  # The entire match\n",
    "print(m.group(1))  # The first parenthesized subgroup.\n",
    "print(m.group(2))  # The second parenthesized subgroup.\n",
    "print(m.group(1, 2))  # Multiple arguments give us a tuple."
   ]
  },
  {
   "cell_type": "markdown",
   "metadata": {},
   "source": [
    "正则表达式中如果有带参数的形式 `(?P<name>...)`， 可以使用 `group('name')` 返回结果"
   ]
  },
  {
   "cell_type": "code",
   "execution_count": 8,
   "metadata": {},
   "outputs": [
    {
     "name": "stdout",
     "output_type": "stream",
     "text": [
      "Malcolm\n",
      "Malcolm\n",
      "Reynolds\n",
      "Reynolds\n"
     ]
    }
   ],
   "source": [
    "m = re.match(r\"(?P<first_name>\\w+) (?P<last_name>\\w+)\", \"Malcolm Reynolds\")\n",
    "print(m.group('first_name'))\n",
    "print(m.group(1))\n",
    "print(m.group('last_name'))\n",
    "print(m.group(2))"
   ]
  },
  {
   "cell_type": "markdown",
   "metadata": {},
   "source": [
    "如果一个组匹配多次，则只能访问最后一个匹配"
   ]
  },
  {
   "cell_type": "code",
   "execution_count": 9,
   "metadata": {},
   "outputs": [
    {
     "name": "stdout",
     "output_type": "stream",
     "text": [
      "c3\n"
     ]
    }
   ],
   "source": [
    "m = re.match(r\"(..)+\", \"a1b2c3\")  # Matches 3 times.\n",
    "print(m.group(1))"
   ]
  }
 ],
 "metadata": {
  "kernelspec": {
   "display_name": "Python 3 (ipykernel)",
   "language": "python",
   "name": "python3"
  },
  "language_info": {
   "codemirror_mode": {
    "name": "ipython",
    "version": 3
   },
   "file_extension": ".py",
   "mimetype": "text/x-python",
   "name": "python",
   "nbconvert_exporter": "python",
   "pygments_lexer": "ipython3",
   "version": "3.10.7"
  }
 },
 "nbformat": 4,
 "nbformat_minor": 1
}
